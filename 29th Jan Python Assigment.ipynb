{
 "cells": [
  {
   "cell_type": "markdown",
   "id": "41591fe6",
   "metadata": {},
   "source": [
    "## Who Devloped Python Programming Language \n",
    "\n",
    "###### Ans  -   Python programming language was developed by Guido van Rossum"
   ]
  },
  {
   "cell_type": "markdown",
   "id": "1071da47",
   "metadata": {},
   "source": [
    "Which type of programming does python support"
   ]
  },
  {
   "cell_type": "markdown",
   "id": "7e9deca1",
   "metadata": {},
   "source": [
    "### Which type of programming does python support\n",
    "\n",
    "##### Ans -- Python Support several Programming Paradigms ,making it a versatile language..\n",
    "\n",
    "I) Procedural Programming\n",
    "II) Object-Oriented Programming\n",
    "III) Functional programming\n",
    "IV) Imperative Programming \n",
    "V) Event-Driven Programming\n",
    "VI) Scripting\n",
    "VII) Functional-Object Hybrid"
   ]
  },
  {
   "cell_type": "markdown",
   "id": "2d1f2ff0",
   "metadata": {},
   "source": [
    "### IS Python Case Sensitive when dealing with identifiers ?\n",
    "\n",
    "##### Ans -- Yes Python IS a case  Sensitive   Language when dealing  with identifiers\n",
    "Here Is the example of that"
   ]
  },
  {
   "cell_type": "code",
   "execution_count": 2,
   "id": "d7694823",
   "metadata": {},
   "outputs": [
    {
     "name": "stdout",
     "output_type": "stream",
     "text": [
      "10\n",
      "20\n"
     ]
    }
   ],
   "source": [
    "myVariable = 10\n",
    "myvariable = 20\n",
    "print(myVariable)\n",
    "print(myvariable)"
   ]
  },
  {
   "cell_type": "markdown",
   "id": "30f21819",
   "metadata": {},
   "source": [
    "### what is the correct extension of the python file ?\n",
    "\n",
    "###### Ans -- The correct extension of python file is .py"
   ]
  },
  {
   "cell_type": "markdown",
   "id": "d7b16718",
   "metadata": {},
   "source": [
    "### Is python code compiled or interpreted ?\n",
    "\n",
    "\n",
    "##### Ans -- Python is Interpreted Language ..\n"
   ]
  },
  {
   "cell_type": "markdown",
   "id": "072234fa",
   "metadata": {},
   "source": [
    "### Name a few blocks code used to define in Python language ?\n",
    "\n",
    "##### Anss -- Heer is the few block code used to define in python language ..\n",
    "\n",
    "I) Function Blocks..\n",
    "II) Class Blocks..\n",
    "III) Conditional Blocks...\n",
    "IV) Loop Blocks..\n"
   ]
  },
  {
   "cell_type": "code",
   "execution_count": 3,
   "id": "99571790",
   "metadata": {},
   "outputs": [],
   "source": [
    "def my_function():\n",
    "    print(\"This is a function block\")"
   ]
  },
  {
   "cell_type": "code",
   "execution_count": 4,
   "id": "ebe7955b",
   "metadata": {},
   "outputs": [],
   "source": [
    "class MyClass:\n",
    "    def __init__(self):\n",
    "        self.attribute = 10"
   ]
  },
  {
   "cell_type": "code",
   "execution_count": 5,
   "id": "38940dda",
   "metadata": {},
   "outputs": [
    {
     "name": "stdout",
     "output_type": "stream",
     "text": [
      "0\n",
      "1\n",
      "2\n",
      "3\n",
      "4\n",
      "0\n",
      "1\n",
      "2\n",
      "3\n",
      "4\n"
     ]
    }
   ],
   "source": [
    "# For Loop\n",
    "for i in range(5):\n",
    "    print(i)\n",
    "    \n",
    "# While Loop\n",
    "\n",
    "x = 0 \n",
    "while x < 5:\n",
    "    print(x)\n",
    "    x += 1\n"
   ]
  },
  {
   "cell_type": "code",
   "execution_count": 8,
   "id": "36ee8410",
   "metadata": {},
   "outputs": [
    {
     "name": "stdout",
     "output_type": "stream",
     "text": [
      "x is greater than 5\n"
     ]
    }
   ],
   "source": [
    "## conditional Blocks\n",
    "x = 10\n",
    "if x > 5:\n",
    "    print(\"x is greater than 5\")\n",
    "    \n",
    "else:\n",
    "    print(\"X is less than or equal to 5\")"
   ]
  },
  {
   "cell_type": "markdown",
   "id": "e47a7941",
   "metadata": {},
   "source": [
    "## State  a character used to give single-line comments in python?\n",
    "\n",
    "\n",
    "#### Ans -> \" # \" is a character used tyo give single line comments in python..\n"
   ]
  },
  {
   "cell_type": "code",
   "execution_count": 10,
   "id": "4c187e6d",
   "metadata": {},
   "outputs": [
    {
     "name": "stdout",
     "output_type": "stream",
     "text": [
      " # is a character used for single Line omment\n"
     ]
    }
   ],
   "source": [
    "# This Is the Single-line Comment\n",
    "print(\" # is a character used for single Line omment\")"
   ]
  },
  {
   "cell_type": "markdown",
   "id": "687dfcbd",
   "metadata": {},
   "source": [
    "## Mentions Functions which can help us to find the version of python that we are currently working on?\n",
    "\n",
    "###### "
   ]
  },
  {
   "cell_type": "code",
   "execution_count": 11,
   "id": "eff9c8ae",
   "metadata": {},
   "outputs": [
    {
     "name": "stdout",
     "output_type": "stream",
     "text": [
      "3.11.2 (tags/v3.11.2:878ead1, Feb  7 2023, 16:38:35) [MSC v.1934 64 bit (AMD64)]\n"
     ]
    }
   ],
   "source": [
    "import sys\n",
    "print(sys.version)"
   ]
  },
  {
   "cell_type": "markdown",
   "id": "846f28c4",
   "metadata": {},
   "source": [
    "### Python supports the creation of anonymous function  at runtime,using a constrict called _______"
   ]
  },
  {
   "cell_type": "code",
   "execution_count": 12,
   "id": "2373b8e2",
   "metadata": {},
   "outputs": [
    {
     "name": "stdout",
     "output_type": "stream",
     "text": [
      "10\n"
     ]
    }
   ],
   "source": [
    "## lambda\n",
    "\n",
    "double = lambda x:x*2\n",
    "print(double(5))"
   ]
  },
  {
   "cell_type": "markdown",
   "id": "69bf5f64",
   "metadata": {},
   "source": [
    "## What does pip stand for python\n",
    "\n",
    "###### Pip is the deafult manager for Python and is used to install third-parylibraries and modules from the python packages index (pypi).."
   ]
  },
  {
   "cell_type": "markdown",
   "id": "376f82bf",
   "metadata": {},
   "source": [
    "## Mention a few built-in function in python ?"
   ]
  },
  {
   "cell_type": "markdown",
   "id": "fbb6cd87",
   "metadata": {},
   "source": [
    "print(): Used to display output to the console.\n",
    "\n",
    "len(): Returns the length of an object, such as a string, list, or tuple.\n",
    "\n",
    "input(): Reads input from the user through the console.\n",
    "\n",
    "range(): Generates a sequence of numbers.\n",
    "\n",
    "int(), float(), str(), bool(): Used for type conversion.\n",
    "\n",
    "list(), tuple(), set(), dict(): Used for creating lists, tuples, sets, and dictionaries.\n",
    "\n",
    "sorted(): Returns a new sorted list from the elements of an iterable.\n",
    "\n",
    "max(), min(): Returns the maximum and minimum value from a sequence."
   ]
  },
  {
   "cell_type": "markdown",
   "id": "4e215b26",
   "metadata": {},
   "source": [
    "### What is the maximum possible length of an identifier in Python ?\n",
    "\n",
    "\n",
    "##### Ans --- The maximum possible length of an identifier, such as variable names, function names, or class names, is not explicitly defined by the language specification. However, Python imposes a practical limit on the length of identifiers."
   ]
  },
  {
   "cell_type": "markdown",
   "id": "38bae26b",
   "metadata": {},
   "source": [
    "### what are the benifits of using python ?\n",
    "\n",
    "###### Ans --> Here are the benifits of using  python --\n",
    "\n",
    "I) Readability and Simplicty..\n",
    "II) Large Standard Library and Third-party Ecosystem..\n",
    "III) Cross-platform compatibility..\n",
    "IV ) Strong Community and Support...\n",
    "V) Integration and Interoperability...\n",
    "VI) Data Science And Machine Learning Capablities...\n",
    "VII) Rapid prototyping and Development...\n",
    "VIII) Open Source and Free..."
   ]
  },
  {
   "cell_type": "markdown",
   "id": "c289c147",
   "metadata": {},
   "source": [
    "### How I memory managed in Python ?\n",
    "\n"
   ]
  },
  {
   "cell_type": "markdown",
   "id": "173e6f65",
   "metadata": {},
   "source": [
    " Pythons uses dynamic memory allocation which is managed by the Heap data structure\n",
    "\n",
    "\n",
    "Python memory manager manages the allocation or de-allocation of the heap memory space through the API functions."
   ]
  },
  {
   "cell_type": "markdown",
   "id": "57b623f6",
   "metadata": {},
   "source": [
    "## How to insatll Python on Windows and set path variables ?"
   ]
  },
  {
   "cell_type": "markdown",
   "id": "753d4413",
   "metadata": {},
   "source": [
    "Install python from this link https://www.python.org/downloads/\n",
    "After this, install it on your PC. Look for the location where PYTHON has been installed on your PC using tge following command on your command prompt: cmd python.\n",
    "Then go to advanced system settings and add new variable and name it as PYTHON_NAME and paste the copied path.\n",
    "Then look for the path variable, select it's value and select edit\n",
    "Add a semicolon towards the end of the value if it's not present and then type %PYTHON_HOME%"
   ]
  },
  {
   "cell_type": "markdown",
   "id": "9ff34189",
   "metadata": {},
   "source": [
    "## Is identation required in python"
   ]
  },
  {
   "cell_type": "markdown",
   "id": "86803a6f",
   "metadata": {},
   "source": [
    "Yes , it is very necessary in python, without it will give you Identation Error"
   ]
  },
  {
   "cell_type": "code",
   "execution_count": 8,
   "id": "958de260",
   "metadata": {},
   "outputs": [
    {
     "name": "stdout",
     "output_type": "stream",
     "text": [
      "it is true\n"
     ]
    }
   ],
   "source": [
    "if 5 > 1:\n",
    "    print(\"it is true\")\n",
    "    \n",
    "    "
   ]
  },
  {
   "cell_type": "code",
   "execution_count": 9,
   "id": "b4ed4727",
   "metadata": {},
   "outputs": [
    {
     "ename": "IndentationError",
     "evalue": "expected an indented block after 'if' statement on line 1 (3938350490.py, line 2)",
     "output_type": "error",
     "traceback": [
      "\u001b[1;36m  Cell \u001b[1;32mIn[9], line 2\u001b[1;36m\u001b[0m\n\u001b[1;33m    print(:\"it is error\")\u001b[0m\n\u001b[1;37m    ^\u001b[0m\n\u001b[1;31mIndentationError\u001b[0m\u001b[1;31m:\u001b[0m expected an indented block after 'if' statement on line 1\n"
     ]
    }
   ],
   "source": [
    "if 5 > 1:\n",
    "print(:\"it is error\")"
   ]
  },
  {
   "cell_type": "code",
   "execution_count": null,
   "id": "c4935eb0",
   "metadata": {},
   "outputs": [],
   "source": []
  }
 ],
 "metadata": {
  "kernelspec": {
   "display_name": "Python 3 (ipykernel)",
   "language": "python",
   "name": "python3"
  },
  "language_info": {
   "codemirror_mode": {
    "name": "ipython",
    "version": 3
   },
   "file_extension": ".py",
   "mimetype": "text/x-python",
   "name": "python",
   "nbconvert_exporter": "python",
   "pygments_lexer": "ipython3",
   "version": "3.11.2"
  }
 },
 "nbformat": 4,
 "nbformat_minor": 5
}
